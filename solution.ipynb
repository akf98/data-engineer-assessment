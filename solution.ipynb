{
 "cells": [
  {
   "cell_type": "code",
   "execution_count": 1,
   "metadata": {},
   "outputs": [],
   "source": [
    "import pandas as pd\n",
    "import numpy as np\n",
    "import sys\n",
    "import datetime"
   ]
  },
  {
   "cell_type": "markdown",
   "metadata": {},
   "source": [
    "<B>Data Exploration</B>"
   ]
  },
  {
   "cell_type": "code",
   "execution_count": 2,
   "metadata": {},
   "outputs": [],
   "source": [
    "meter_list_df = pd.read_excel('gorilla_test_data.xlsx', sheet_name='meter_list')\n",
    "forecast_table_df = pd.read_excel('gorilla_test_data.xlsx', sheet_name='forecast_table')\n",
    "rate_table_df = pd.read_excel('gorilla_test_data.xlsx', sheet_name='rate_table')\n"
   ]
  },
  {
   "cell_type": "code",
   "execution_count": 4,
   "metadata": {},
   "outputs": [
    {
     "data": {
      "text/html": [
       "<div>\n",
       "<style scoped>\n",
       "    .dataframe tbody tr th:only-of-type {\n",
       "        vertical-align: middle;\n",
       "    }\n",
       "\n",
       "    .dataframe tbody tr th {\n",
       "        vertical-align: top;\n",
       "    }\n",
       "\n",
       "    .dataframe thead th {\n",
       "        text-align: right;\n",
       "    }\n",
       "</style>\n",
       "<table border=\"1\" class=\"dataframe\">\n",
       "  <thead>\n",
       "    <tr style=\"text-align: right;\">\n",
       "      <th></th>\n",
       "      <th>meter_id</th>\n",
       "      <th>aq_kwh</th>\n",
       "      <th>exit_zone</th>\n",
       "    </tr>\n",
       "  </thead>\n",
       "  <tbody>\n",
       "    <tr>\n",
       "      <th>0</th>\n",
       "      <td>14676236</td>\n",
       "      <td>28978</td>\n",
       "      <td>EA1</td>\n",
       "    </tr>\n",
       "    <tr>\n",
       "      <th>1</th>\n",
       "      <td>34509937</td>\n",
       "      <td>78324</td>\n",
       "      <td>SO1</td>\n",
       "    </tr>\n",
       "    <tr>\n",
       "      <th>2</th>\n",
       "      <td>50264822</td>\n",
       "      <td>265667</td>\n",
       "      <td>NT1</td>\n",
       "    </tr>\n",
       "    <tr>\n",
       "      <th>3</th>\n",
       "      <td>88357331</td>\n",
       "      <td>484399</td>\n",
       "      <td>SE2</td>\n",
       "    </tr>\n",
       "  </tbody>\n",
       "</table>\n",
       "</div>"
      ],
      "text/plain": [
       "   meter_id  aq_kwh exit_zone\n",
       "0  14676236   28978       EA1\n",
       "1  34509937   78324       SO1\n",
       "2  50264822  265667       NT1\n",
       "3  88357331  484399       SE2"
      ]
     },
     "execution_count": 4,
     "metadata": {},
     "output_type": "execute_result"
    }
   ],
   "source": [
    "meter_list_df"
   ]
  },
  {
   "cell_type": "code",
   "execution_count": 6,
   "metadata": {},
   "outputs": [
    {
     "data": {
      "text/html": [
       "<div>\n",
       "<style scoped>\n",
       "    .dataframe tbody tr th:only-of-type {\n",
       "        vertical-align: middle;\n",
       "    }\n",
       "\n",
       "    .dataframe tbody tr th {\n",
       "        vertical-align: top;\n",
       "    }\n",
       "\n",
       "    .dataframe thead th {\n",
       "        text-align: right;\n",
       "    }\n",
       "</style>\n",
       "<table border=\"1\" class=\"dataframe\">\n",
       "  <thead>\n",
       "    <tr style=\"text-align: right;\">\n",
       "      <th></th>\n",
       "      <th>meter_id</th>\n",
       "      <th>date</th>\n",
       "      <th>kwh</th>\n",
       "    </tr>\n",
       "  </thead>\n",
       "  <tbody>\n",
       "    <tr>\n",
       "      <th>0</th>\n",
       "      <td>14676236</td>\n",
       "      <td>2020-06-01</td>\n",
       "      <td>22.070768</td>\n",
       "    </tr>\n",
       "    <tr>\n",
       "      <th>1</th>\n",
       "      <td>14676236</td>\n",
       "      <td>2020-06-02</td>\n",
       "      <td>19.170720</td>\n",
       "    </tr>\n",
       "    <tr>\n",
       "      <th>2</th>\n",
       "      <td>14676236</td>\n",
       "      <td>2020-06-03</td>\n",
       "      <td>23.555111</td>\n",
       "    </tr>\n",
       "    <tr>\n",
       "      <th>3</th>\n",
       "      <td>14676236</td>\n",
       "      <td>2020-06-04</td>\n",
       "      <td>18.220712</td>\n",
       "    </tr>\n",
       "    <tr>\n",
       "      <th>4</th>\n",
       "      <td>14676236</td>\n",
       "      <td>2020-06-05</td>\n",
       "      <td>14.196134</td>\n",
       "    </tr>\n",
       "    <tr>\n",
       "      <th>...</th>\n",
       "      <td>...</td>\n",
       "      <td>...</td>\n",
       "      <td>...</td>\n",
       "    </tr>\n",
       "    <tr>\n",
       "      <th>3407</th>\n",
       "      <td>88357331</td>\n",
       "      <td>2022-09-27</td>\n",
       "      <td>441.014725</td>\n",
       "    </tr>\n",
       "    <tr>\n",
       "      <th>3408</th>\n",
       "      <td>88357331</td>\n",
       "      <td>2022-09-28</td>\n",
       "      <td>441.512055</td>\n",
       "    </tr>\n",
       "    <tr>\n",
       "      <th>3409</th>\n",
       "      <td>88357331</td>\n",
       "      <td>2022-09-29</td>\n",
       "      <td>437.240657</td>\n",
       "    </tr>\n",
       "    <tr>\n",
       "      <th>3410</th>\n",
       "      <td>88357331</td>\n",
       "      <td>2022-09-30</td>\n",
       "      <td>517.608354</td>\n",
       "    </tr>\n",
       "    <tr>\n",
       "      <th>3411</th>\n",
       "      <td>88357331</td>\n",
       "      <td>2022-10-01</td>\n",
       "      <td>460.535505</td>\n",
       "    </tr>\n",
       "  </tbody>\n",
       "</table>\n",
       "<p>3412 rows × 3 columns</p>\n",
       "</div>"
      ],
      "text/plain": [
       "      meter_id       date         kwh\n",
       "0     14676236 2020-06-01   22.070768\n",
       "1     14676236 2020-06-02   19.170720\n",
       "2     14676236 2020-06-03   23.555111\n",
       "3     14676236 2020-06-04   18.220712\n",
       "4     14676236 2020-06-05   14.196134\n",
       "...        ...        ...         ...\n",
       "3407  88357331 2022-09-27  441.014725\n",
       "3408  88357331 2022-09-28  441.512055\n",
       "3409  88357331 2022-09-29  437.240657\n",
       "3410  88357331 2022-09-30  517.608354\n",
       "3411  88357331 2022-10-01  460.535505\n",
       "\n",
       "[3412 rows x 3 columns]"
      ]
     },
     "execution_count": 6,
     "metadata": {},
     "output_type": "execute_result"
    }
   ],
   "source": [
    "forecast_table_df"
   ]
  },
  {
   "cell_type": "code",
   "execution_count": 3,
   "metadata": {},
   "outputs": [],
   "source": [
    "rate_table_df = rate_table_df.replace(np.nan, int(sys.maxsize))"
   ]
  },
  {
   "cell_type": "markdown",
   "metadata": {},
   "source": [
    "<B>Part 1 </B>"
   ]
  },
  {
   "cell_type": "code",
   "execution_count": 109,
   "metadata": {},
   "outputs": [],
   "source": [
    "t_agg = pd.merge(meter_list_df,forecast_table_df, how='inner', on='meter_id')\n",
    "t_agg.loc[:,'rate_pound']=None"
   ]
  },
  {
   "cell_type": "code",
   "execution_count": 110,
   "metadata": {},
   "outputs": [
    {
     "data": {
      "text/html": [
       "<div>\n",
       "<style scoped>\n",
       "    .dataframe tbody tr th:only-of-type {\n",
       "        vertical-align: middle;\n",
       "    }\n",
       "\n",
       "    .dataframe tbody tr th {\n",
       "        vertical-align: top;\n",
       "    }\n",
       "\n",
       "    .dataframe thead th {\n",
       "        text-align: right;\n",
       "    }\n",
       "</style>\n",
       "<table border=\"1\" class=\"dataframe\">\n",
       "  <thead>\n",
       "    <tr style=\"text-align: right;\">\n",
       "      <th></th>\n",
       "      <th>meter_id</th>\n",
       "      <th>aq_kwh</th>\n",
       "      <th>exit_zone</th>\n",
       "      <th>date</th>\n",
       "      <th>kwh</th>\n",
       "      <th>rate_pound</th>\n",
       "    </tr>\n",
       "  </thead>\n",
       "  <tbody>\n",
       "    <tr>\n",
       "      <th>0</th>\n",
       "      <td>14676236</td>\n",
       "      <td>28978</td>\n",
       "      <td>EA1</td>\n",
       "      <td>2020-06-01</td>\n",
       "      <td>22.070768</td>\n",
       "      <td>None</td>\n",
       "    </tr>\n",
       "    <tr>\n",
       "      <th>1</th>\n",
       "      <td>14676236</td>\n",
       "      <td>28978</td>\n",
       "      <td>EA1</td>\n",
       "      <td>2020-06-02</td>\n",
       "      <td>19.170720</td>\n",
       "      <td>None</td>\n",
       "    </tr>\n",
       "    <tr>\n",
       "      <th>2</th>\n",
       "      <td>14676236</td>\n",
       "      <td>28978</td>\n",
       "      <td>EA1</td>\n",
       "      <td>2020-06-03</td>\n",
       "      <td>23.555111</td>\n",
       "      <td>None</td>\n",
       "    </tr>\n",
       "    <tr>\n",
       "      <th>3</th>\n",
       "      <td>14676236</td>\n",
       "      <td>28978</td>\n",
       "      <td>EA1</td>\n",
       "      <td>2020-06-04</td>\n",
       "      <td>18.220712</td>\n",
       "      <td>None</td>\n",
       "    </tr>\n",
       "    <tr>\n",
       "      <th>4</th>\n",
       "      <td>14676236</td>\n",
       "      <td>28978</td>\n",
       "      <td>EA1</td>\n",
       "      <td>2020-06-05</td>\n",
       "      <td>14.196134</td>\n",
       "      <td>None</td>\n",
       "    </tr>\n",
       "    <tr>\n",
       "      <th>...</th>\n",
       "      <td>...</td>\n",
       "      <td>...</td>\n",
       "      <td>...</td>\n",
       "      <td>...</td>\n",
       "      <td>...</td>\n",
       "      <td>...</td>\n",
       "    </tr>\n",
       "    <tr>\n",
       "      <th>3407</th>\n",
       "      <td>88357331</td>\n",
       "      <td>484399</td>\n",
       "      <td>SE2</td>\n",
       "      <td>2022-09-27</td>\n",
       "      <td>441.014725</td>\n",
       "      <td>None</td>\n",
       "    </tr>\n",
       "    <tr>\n",
       "      <th>3408</th>\n",
       "      <td>88357331</td>\n",
       "      <td>484399</td>\n",
       "      <td>SE2</td>\n",
       "      <td>2022-09-28</td>\n",
       "      <td>441.512055</td>\n",
       "      <td>None</td>\n",
       "    </tr>\n",
       "    <tr>\n",
       "      <th>3409</th>\n",
       "      <td>88357331</td>\n",
       "      <td>484399</td>\n",
       "      <td>SE2</td>\n",
       "      <td>2022-09-29</td>\n",
       "      <td>437.240657</td>\n",
       "      <td>None</td>\n",
       "    </tr>\n",
       "    <tr>\n",
       "      <th>3410</th>\n",
       "      <td>88357331</td>\n",
       "      <td>484399</td>\n",
       "      <td>SE2</td>\n",
       "      <td>2022-09-30</td>\n",
       "      <td>517.608354</td>\n",
       "      <td>None</td>\n",
       "    </tr>\n",
       "    <tr>\n",
       "      <th>3411</th>\n",
       "      <td>88357331</td>\n",
       "      <td>484399</td>\n",
       "      <td>SE2</td>\n",
       "      <td>2022-10-01</td>\n",
       "      <td>460.535505</td>\n",
       "      <td>None</td>\n",
       "    </tr>\n",
       "  </tbody>\n",
       "</table>\n",
       "<p>3412 rows × 6 columns</p>\n",
       "</div>"
      ],
      "text/plain": [
       "      meter_id  aq_kwh exit_zone       date         kwh rate_pound\n",
       "0     14676236   28978       EA1 2020-06-01   22.070768       None\n",
       "1     14676236   28978       EA1 2020-06-02   19.170720       None\n",
       "2     14676236   28978       EA1 2020-06-03   23.555111       None\n",
       "3     14676236   28978       EA1 2020-06-04   18.220712       None\n",
       "4     14676236   28978       EA1 2020-06-05   14.196134       None\n",
       "...        ...     ...       ...        ...         ...        ...\n",
       "3407  88357331  484399       SE2 2022-09-27  441.014725       None\n",
       "3408  88357331  484399       SE2 2022-09-28  441.512055       None\n",
       "3409  88357331  484399       SE2 2022-09-29  437.240657       None\n",
       "3410  88357331  484399       SE2 2022-09-30  517.608354       None\n",
       "3411  88357331  484399       SE2 2022-10-01  460.535505       None\n",
       "\n",
       "[3412 rows x 6 columns]"
      ]
     },
     "execution_count": 110,
     "metadata": {},
     "output_type": "execute_result"
    }
   ],
   "source": [
    "t_agg"
   ]
  },
  {
   "cell_type": "code",
   "execution_count": 111,
   "metadata": {},
   "outputs": [],
   "source": [
    "def cost_extraction(r):\n",
    "    costs =  rate_table_df[(rate_table_df['exit_zone']==r.exit_zone) & (rate_table_df['aq_min_kwh']<=r.aq_kwh) & (rate_table_df['aq_max_kwh']>r.aq_kwh) & (rate_table_df['date']<=r.date)]\n",
    "    r.rate_pound= costs['rate_p_per_kwh'].iloc[-1] * 0.01\n",
    "    return r"
   ]
  },
  {
   "cell_type": "code",
   "execution_count": 112,
   "metadata": {},
   "outputs": [],
   "source": [
    "t_agg = t_agg.apply(cost_extraction, axis=1)"
   ]
  },
  {
   "cell_type": "code",
   "execution_count": 113,
   "metadata": {},
   "outputs": [
    {
     "data": {
      "text/plain": [
       "meter_id                 14676236\n",
       "aq_kwh                      28978\n",
       "exit_zone                     EA1\n",
       "date          2022-04-01 00:00:00\n",
       "kwh                     47.160597\n",
       "rate_pound               0.004173\n",
       "Name: 669, dtype: object"
      ]
     },
     "execution_count": 113,
     "metadata": {},
     "output_type": "execute_result"
    }
   ],
   "source": [
    "t_agg.iloc[669]"
   ]
  },
  {
   "cell_type": "code",
   "execution_count": 114,
   "metadata": {},
   "outputs": [],
   "source": [
    "def calculate_vals(r):\n",
    "    condition = t_agg['meter_id']==r.meter_id\n",
    "    r.total_consumption_kwh = t_agg.loc[condition, 'kwh'].sum()\n",
    "    r.total_cost_pound = t_agg.loc[condition,'kwh'].multiply(t_agg.loc[condition,'rate_pound']).sum()\n",
    "    return r\n"
   ]
  },
  {
   "cell_type": "code",
   "execution_count": 208,
   "metadata": {},
   "outputs": [
    {
     "data": {
      "text/html": [
       "<div>\n",
       "<style scoped>\n",
       "    .dataframe tbody tr th:only-of-type {\n",
       "        vertical-align: middle;\n",
       "    }\n",
       "\n",
       "    .dataframe tbody tr th {\n",
       "        vertical-align: top;\n",
       "    }\n",
       "\n",
       "    .dataframe thead th {\n",
       "        text-align: right;\n",
       "    }\n",
       "</style>\n",
       "<table border=\"1\" class=\"dataframe\">\n",
       "  <thead>\n",
       "    <tr style=\"text-align: right;\">\n",
       "      <th></th>\n",
       "      <th>meter_id</th>\n",
       "      <th>total_consumption_kwh</th>\n",
       "      <th>total_cost_pound</th>\n",
       "    </tr>\n",
       "  </thead>\n",
       "  <tbody>\n",
       "    <tr>\n",
       "      <th>0</th>\n",
       "      <td>14676236</td>\n",
       "      <td>28978.0</td>\n",
       "      <td>100.152012</td>\n",
       "    </tr>\n",
       "    <tr>\n",
       "      <th>1</th>\n",
       "      <td>34509937</td>\n",
       "      <td>78324.0</td>\n",
       "      <td>275.489119</td>\n",
       "    </tr>\n",
       "    <tr>\n",
       "      <th>2</th>\n",
       "      <td>50264822</td>\n",
       "      <td>265667.0</td>\n",
       "      <td>731.244071</td>\n",
       "    </tr>\n",
       "    <tr>\n",
       "      <th>3</th>\n",
       "      <td>88357331</td>\n",
       "      <td>484399.0</td>\n",
       "      <td>1433.160171</td>\n",
       "    </tr>\n",
       "  </tbody>\n",
       "</table>\n",
       "</div>"
      ],
      "text/plain": [
       "   meter_id  total_consumption_kwh  total_cost_pound\n",
       "0  14676236                28978.0        100.152012\n",
       "1  34509937                78324.0        275.489119\n",
       "2  50264822               265667.0        731.244071\n",
       "3  88357331               484399.0       1433.160171"
      ]
     },
     "execution_count": 208,
     "metadata": {},
     "output_type": "execute_result"
    }
   ],
   "source": [
    "aggregate_df = pd.DataFrame({'meter_id':meter_list_df.meter_id, 'total_consumption_kwh': None , 'total_cost_pound': None }).apply(calculate_vals, axis=1)\n",
    "aggregate_df"
   ]
  },
  {
   "cell_type": "markdown",
   "metadata": {},
   "source": [
    "<B>Part 2</B>"
   ]
  },
  {
   "cell_type": "markdown",
   "metadata": {},
   "source": [
    "Generate List of Meters of Any Size"
   ]
  },
  {
   "cell_type": "code",
   "execution_count": 4,
   "metadata": {},
   "outputs": [],
   "source": [
    "def generate_meter_list(list_size):\n",
    "    return pd.DataFrame({'meter_id': np.random.randint(10000000, 100000000, size=list_size), 'aq_kwh':np.random.randint(0, 10000000, size=list_size), 'exit_zone': np.random.choice(rate_table_df['exit_zone'].unique(), size=list_size)})"
   ]
  },
  {
   "cell_type": "code",
   "execution_count": 131,
   "metadata": {},
   "outputs": [],
   "source": [
    "meter_generated = generate_meter_list(100)"
   ]
  },
  {
   "cell_type": "markdown",
   "metadata": {},
   "source": [
    "<B>Part 3</B>"
   ]
  },
  {
   "cell_type": "markdown",
   "metadata": {},
   "source": [
    "Generate Mock Consumption Data:"
   ]
  },
  {
   "cell_type": "code",
   "execution_count": 5,
   "metadata": {},
   "outputs": [],
   "source": [
    "def generate_consumption_data(random_meter_list, start_date, duration_days):\n",
    "\n",
    "    meter_ids = np.repeat(random_meter_list['meter_id'].unique(), duration_days)\n",
    "    # dates = [start_date + datetime.timedelta(days=x) for x in range(duration_days)]\n",
    "    dates = pd.date_range(start=start_date, periods = duration_days)\n",
    "    dates_full_length = np.tile(dates,random_meter_list['meter_id'].unique().shape[0])\n",
    "    \n",
    "    kwh_vals = np.random.rand(len(dates_full_length))*50\n",
    "\n",
    "    return pd.DataFrame({'meter_id': meter_ids, 'date': dates_full_length, 'kwh':kwh_vals})\n",
    "\n"
   ]
  },
  {
   "cell_type": "code",
   "execution_count": 223,
   "metadata": {},
   "outputs": [],
   "source": [
    "consumption_generated = generate_consumption_data(meter_generated, datetime.date(2020,5,1), 5)"
   ]
  },
  {
   "cell_type": "code",
   "execution_count": 224,
   "metadata": {},
   "outputs": [
    {
     "data": {
      "text/html": [
       "<div>\n",
       "<style scoped>\n",
       "    .dataframe tbody tr th:only-of-type {\n",
       "        vertical-align: middle;\n",
       "    }\n",
       "\n",
       "    .dataframe tbody tr th {\n",
       "        vertical-align: top;\n",
       "    }\n",
       "\n",
       "    .dataframe thead th {\n",
       "        text-align: right;\n",
       "    }\n",
       "</style>\n",
       "<table border=\"1\" class=\"dataframe\">\n",
       "  <thead>\n",
       "    <tr style=\"text-align: right;\">\n",
       "      <th></th>\n",
       "      <th>meter_id</th>\n",
       "      <th>date</th>\n",
       "      <th>kwh</th>\n",
       "    </tr>\n",
       "  </thead>\n",
       "  <tbody>\n",
       "    <tr>\n",
       "      <th>0</th>\n",
       "      <td>12790395</td>\n",
       "      <td>2020-05-01</td>\n",
       "      <td>7.657974</td>\n",
       "    </tr>\n",
       "    <tr>\n",
       "      <th>1</th>\n",
       "      <td>12790395</td>\n",
       "      <td>2020-05-02</td>\n",
       "      <td>11.798057</td>\n",
       "    </tr>\n",
       "    <tr>\n",
       "      <th>2</th>\n",
       "      <td>12790395</td>\n",
       "      <td>2020-05-03</td>\n",
       "      <td>35.180718</td>\n",
       "    </tr>\n",
       "    <tr>\n",
       "      <th>3</th>\n",
       "      <td>12790395</td>\n",
       "      <td>2020-05-04</td>\n",
       "      <td>17.981338</td>\n",
       "    </tr>\n",
       "    <tr>\n",
       "      <th>4</th>\n",
       "      <td>12790395</td>\n",
       "      <td>2020-05-05</td>\n",
       "      <td>35.162448</td>\n",
       "    </tr>\n",
       "    <tr>\n",
       "      <th>5</th>\n",
       "      <td>44048148</td>\n",
       "      <td>2020-05-01</td>\n",
       "      <td>8.814744</td>\n",
       "    </tr>\n",
       "    <tr>\n",
       "      <th>6</th>\n",
       "      <td>44048148</td>\n",
       "      <td>2020-05-02</td>\n",
       "      <td>34.355347</td>\n",
       "    </tr>\n",
       "    <tr>\n",
       "      <th>7</th>\n",
       "      <td>44048148</td>\n",
       "      <td>2020-05-03</td>\n",
       "      <td>3.425428</td>\n",
       "    </tr>\n",
       "    <tr>\n",
       "      <th>8</th>\n",
       "      <td>44048148</td>\n",
       "      <td>2020-05-04</td>\n",
       "      <td>30.270272</td>\n",
       "    </tr>\n",
       "    <tr>\n",
       "      <th>9</th>\n",
       "      <td>44048148</td>\n",
       "      <td>2020-05-05</td>\n",
       "      <td>37.190535</td>\n",
       "    </tr>\n",
       "  </tbody>\n",
       "</table>\n",
       "</div>"
      ],
      "text/plain": [
       "   meter_id       date        kwh\n",
       "0  12790395 2020-05-01   7.657974\n",
       "1  12790395 2020-05-02  11.798057\n",
       "2  12790395 2020-05-03  35.180718\n",
       "3  12790395 2020-05-04  17.981338\n",
       "4  12790395 2020-05-05  35.162448\n",
       "5  44048148 2020-05-01   8.814744\n",
       "6  44048148 2020-05-02  34.355347\n",
       "7  44048148 2020-05-03   3.425428\n",
       "8  44048148 2020-05-04  30.270272\n",
       "9  44048148 2020-05-05  37.190535"
      ]
     },
     "execution_count": 224,
     "metadata": {},
     "output_type": "execute_result"
    }
   ],
   "source": [
    "consumption_generated.head(10)"
   ]
  },
  {
   "cell_type": "code",
   "execution_count": 225,
   "metadata": {},
   "outputs": [
    {
     "data": {
      "text/plain": [
       "0     2020-05-01\n",
       "1     2020-05-02\n",
       "2     2020-05-03\n",
       "3     2020-05-04\n",
       "4     2020-05-05\n",
       "         ...    \n",
       "495   2020-05-01\n",
       "496   2020-05-02\n",
       "497   2020-05-03\n",
       "498   2020-05-04\n",
       "499   2020-05-05\n",
       "Name: date, Length: 500, dtype: datetime64[ns]"
      ]
     },
     "execution_count": 225,
     "metadata": {},
     "output_type": "execute_result"
    }
   ],
   "source": [
    "consumption_generated['date']"
   ]
  },
  {
   "cell_type": "markdown",
   "metadata": {},
   "source": [
    "<B>Part 4</B>"
   ]
  },
  {
   "cell_type": "markdown",
   "metadata": {},
   "source": [
    "Function to compute consumption data"
   ]
  },
  {
   "cell_type": "code",
   "execution_count": 6,
   "metadata": {},
   "outputs": [],
   "source": [
    "def compute_consumption_data(meter_list, consumption_forecast):\n",
    "    def cost_extraction(r):\n",
    "        costs =  rate_table_df[(rate_table_df['exit_zone']==r.exit_zone) & (rate_table_df['aq_min_kwh']<=r.aq_kwh) & (rate_table_df['aq_max_kwh']>r.aq_kwh) & (rate_table_df['date']<=r.date)]\n",
    "        r.rate_pound= costs['rate_p_per_kwh'].iloc[-1] * 0.01\n",
    "        return r\n",
    "    \n",
    "    def calculate_vals(r):\n",
    "        condition = t_agg['meter_id']==r.meter_id\n",
    "        r.total_consumption_kwh = t_agg.loc[condition, 'kwh'].sum()\n",
    "        r.total_cost_pound = t_agg.loc[condition,'kwh'].multiply(t_agg.loc[condition,'rate_pound']).sum()\n",
    "        return r\n",
    "        \n",
    "    t_agg = pd.merge(meter_list,consumption_forecast, how='inner', on='meter_id')\n",
    "    t_agg.loc[:,'rate_pound']=None\n",
    "    t_agg = t_agg.apply(cost_extraction, axis=1)\n",
    "\n",
    "    aggregate_df = pd.DataFrame({'meter_id':meter_list.meter_id, 'total_consumption_kwh': None , 'total_cost_pound': None }).apply(calculate_vals, axis=1)\n",
    "\n",
    "    return aggregate_df\n"
   ]
  },
  {
   "cell_type": "code",
   "execution_count": 251,
   "metadata": {},
   "outputs": [
    {
     "data": {
      "text/html": [
       "<div>\n",
       "<style scoped>\n",
       "    .dataframe tbody tr th:only-of-type {\n",
       "        vertical-align: middle;\n",
       "    }\n",
       "\n",
       "    .dataframe tbody tr th {\n",
       "        vertical-align: top;\n",
       "    }\n",
       "\n",
       "    .dataframe thead th {\n",
       "        text-align: right;\n",
       "    }\n",
       "</style>\n",
       "<table border=\"1\" class=\"dataframe\">\n",
       "  <thead>\n",
       "    <tr style=\"text-align: right;\">\n",
       "      <th></th>\n",
       "      <th>meter_id</th>\n",
       "      <th>total_consumption_kwh</th>\n",
       "      <th>total_cost_pound</th>\n",
       "    </tr>\n",
       "  </thead>\n",
       "  <tbody>\n",
       "    <tr>\n",
       "      <th>0</th>\n",
       "      <td>12790395</td>\n",
       "      <td>107.780534</td>\n",
       "      <td>0.330240</td>\n",
       "    </tr>\n",
       "    <tr>\n",
       "      <th>1</th>\n",
       "      <td>44048148</td>\n",
       "      <td>114.056327</td>\n",
       "      <td>0.265751</td>\n",
       "    </tr>\n",
       "    <tr>\n",
       "      <th>2</th>\n",
       "      <td>25795088</td>\n",
       "      <td>171.543308</td>\n",
       "      <td>0.331593</td>\n",
       "    </tr>\n",
       "    <tr>\n",
       "      <th>3</th>\n",
       "      <td>37354305</td>\n",
       "      <td>108.731108</td>\n",
       "      <td>0.251060</td>\n",
       "    </tr>\n",
       "    <tr>\n",
       "      <th>4</th>\n",
       "      <td>26334458</td>\n",
       "      <td>137.602629</td>\n",
       "      <td>0.410606</td>\n",
       "    </tr>\n",
       "    <tr>\n",
       "      <th>...</th>\n",
       "      <td>...</td>\n",
       "      <td>...</td>\n",
       "      <td>...</td>\n",
       "    </tr>\n",
       "    <tr>\n",
       "      <th>95</th>\n",
       "      <td>74998320</td>\n",
       "      <td>106.659015</td>\n",
       "      <td>0.274220</td>\n",
       "    </tr>\n",
       "    <tr>\n",
       "      <th>96</th>\n",
       "      <td>17458597</td>\n",
       "      <td>81.673024</td>\n",
       "      <td>0.192912</td>\n",
       "    </tr>\n",
       "    <tr>\n",
       "      <th>97</th>\n",
       "      <td>91427460</td>\n",
       "      <td>143.045487</td>\n",
       "      <td>0.337873</td>\n",
       "    </tr>\n",
       "    <tr>\n",
       "      <th>98</th>\n",
       "      <td>74285771</td>\n",
       "      <td>169.117017</td>\n",
       "      <td>0.488579</td>\n",
       "    </tr>\n",
       "    <tr>\n",
       "      <th>99</th>\n",
       "      <td>76635653</td>\n",
       "      <td>129.947416</td>\n",
       "      <td>0.387763</td>\n",
       "    </tr>\n",
       "  </tbody>\n",
       "</table>\n",
       "<p>100 rows × 3 columns</p>\n",
       "</div>"
      ],
      "text/plain": [
       "    meter_id  total_consumption_kwh  total_cost_pound\n",
       "0   12790395             107.780534          0.330240\n",
       "1   44048148             114.056327          0.265751\n",
       "2   25795088             171.543308          0.331593\n",
       "3   37354305             108.731108          0.251060\n",
       "4   26334458             137.602629          0.410606\n",
       "..       ...                    ...               ...\n",
       "95  74998320             106.659015          0.274220\n",
       "96  17458597              81.673024          0.192912\n",
       "97  91427460             143.045487          0.337873\n",
       "98  74285771             169.117017          0.488579\n",
       "99  76635653             129.947416          0.387763\n",
       "\n",
       "[100 rows x 3 columns]"
      ]
     },
     "execution_count": 251,
     "metadata": {},
     "output_type": "execute_result"
    }
   ],
   "source": [
    "compute_consumption_data(meter_generated, consumption_generated)"
   ]
  },
  {
   "cell_type": "markdown",
   "metadata": {},
   "source": [
    "<B>Part 4: Benchmarking</B>"
   ]
  },
  {
   "cell_type": "code",
   "execution_count": 12,
   "metadata": {},
   "outputs": [
    {
     "name": "stdout",
     "output_type": "stream",
     "text": [
      "generating meters list ..\n",
      "generating forecasts ..\n",
      "computing consumption data .. \n",
      "meter size: 100 & duration: 50, time= 16.470703601837158s\n",
      "generating meters list ..\n",
      "generating forecasts ..\n",
      "computing consumption data .. \n",
      "meter size: 100 & duration: 100, time= 32.16406035423279s\n",
      "generating meters list ..\n",
      "generating forecasts ..\n",
      "computing consumption data .. \n",
      "meter size: 100 & duration: 500, time= 120.98808288574219s\n",
      "generating meters list ..\n",
      "generating forecasts ..\n",
      "computing consumption data .. \n",
      "meter size: 500 & duration: 50, time= 54.61790657043457s\n",
      "generating meters list ..\n",
      "generating forecasts ..\n",
      "computing consumption data .. \n",
      "meter size: 500 & duration: 100, time= 121.87677788734436s\n",
      "generating meters list ..\n",
      "generating forecasts ..\n",
      "computing consumption data .. \n",
      "meter size: 500 & duration: 500, time= 780.902108669281s\n"
     ]
    }
   ],
   "source": [
    "# Benchmark \n",
    "import time\n",
    "meter_sizes = [100, 500]\n",
    "durations = [50, 100, 500]\n",
    "times = []\n",
    "for meter_size in meter_sizes:\n",
    "    for duration in durations:\n",
    "        print('generating meters list ..')\n",
    "        meter_generated_benchmark = generate_meter_list(meter_size)\n",
    "        print('generating forecasts ..')\n",
    "        forecast_generated_benchmark = generate_consumption_data(meter_generated_benchmark, datetime.date(2020, 4,1), duration)\n",
    "        print('computing consumption data .. ')\n",
    "        tic = time.time()\n",
    "        computed_benchmark = compute_consumption_data(meter_generated_benchmark, forecast_generated_benchmark)\n",
    "        toc = time.time()\n",
    "        print( f'meter size: {meter_size} & duration: {duration}, time= {toc-tic}s')\n",
    "        times.append(toc-tic)"
   ]
  },
  {
   "cell_type": "markdown",
   "metadata": {},
   "source": [
    "<B>Observations:</B>"
   ]
  },
  {
   "cell_type": "markdown",
   "metadata": {},
   "source": [
    "We notice from the results that the function doesn't scale very well with a growing size of data. One possible improvement can be to further transform the data to parallelize and vectorize the processes better. "
   ]
  }
 ],
 "metadata": {
  "interpreter": {
   "hash": "2eb8f501571891c75ebb11da6bd196ca651a1af8b067f9ea8aa15f4aea392e4d"
  },
  "kernelspec": {
   "display_name": "Python 3.9.6 64-bit ('3.9.6')",
   "language": "python",
   "name": "python3"
  },
  "language_info": {
   "codemirror_mode": {
    "name": "ipython",
    "version": 3
   },
   "file_extension": ".py",
   "mimetype": "text/x-python",
   "name": "python",
   "nbconvert_exporter": "python",
   "pygments_lexer": "ipython3",
   "version": "3.9.6"
  },
  "orig_nbformat": 4
 },
 "nbformat": 4,
 "nbformat_minor": 2
}
